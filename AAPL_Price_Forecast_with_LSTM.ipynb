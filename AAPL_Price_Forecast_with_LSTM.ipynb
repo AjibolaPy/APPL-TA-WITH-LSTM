{
  "cells": [
    {
      "cell_type": "code",
      "execution_count": null,
      "id": "9bcf8b1e",
      "metadata": {
        "id": "9bcf8b1e"
      },
      "outputs": [],
      "source": [
        "import pandas as pd\n",
        "import seaborn as sns\n",
        "import matplotlib.pyplot as plt\n",
        "from sklearn import *\n",
        "import numpy as np\n",
        "from keras import layers\n",
        "from keras import models\n",
        "from sklearn.preprocessing import MinMaxScaler"
      ]
    },
    {
      "cell_type": "code",
      "execution_count": null,
      "id": "abca49c0",
      "metadata": {
        "id": "abca49c0"
      },
      "outputs": [],
      "source": [
        "def load_data(data):\n",
        "    return pd.read_csv(data)\n",
        "\n",
        "df=load_data('/content/AAPL.csv')\n",
        "df.drop(['Unnamed: 0'], axis=1, inplace=True)\n"
      ]
    },
    {
      "cell_type": "code",
      "execution_count": null,
      "id": "e7b18fde",
      "metadata": {
        "colab": {
          "base_uri": "https://localhost:8080/",
          "height": 661
        },
        "id": "e7b18fde",
        "outputId": "a7456f71-3e72-43be-f256-4c7166bd4874"
      },
      "outputs": [
        {
          "output_type": "execute_result",
          "data": {
            "text/plain": [
              "     symbol                       date    close     high       low    open  \\\n",
              "0      AAPL  2015-05-27 00:00:00+00:00  132.045  132.260  130.0500  130.34   \n",
              "1      AAPL  2015-05-28 00:00:00+00:00  131.780  131.950  131.1000  131.86   \n",
              "2      AAPL  2015-05-29 00:00:00+00:00  130.280  131.450  129.9000  131.23   \n",
              "3      AAPL  2015-06-01 00:00:00+00:00  130.535  131.390  130.0500  131.20   \n",
              "4      AAPL  2015-06-02 00:00:00+00:00  129.960  130.655  129.3200  129.86   \n",
              "...     ...                        ...      ...      ...       ...     ...   \n",
              "1253   AAPL  2020-05-18 00:00:00+00:00  314.960  316.500  310.3241  313.17   \n",
              "1254   AAPL  2020-05-19 00:00:00+00:00  313.140  318.520  313.0100  315.03   \n",
              "1255   AAPL  2020-05-20 00:00:00+00:00  319.230  319.520  316.2000  316.68   \n",
              "1256   AAPL  2020-05-21 00:00:00+00:00  316.850  320.890  315.8700  318.66   \n",
              "1257   AAPL  2020-05-22 00:00:00+00:00  318.890  319.230  315.3500  315.77   \n",
              "\n",
              "        volume    adjClose     adjHigh      adjLow     adjOpen  adjVolume  \\\n",
              "0     45833246  121.682558  121.880685  119.844118  120.111360   45833246   \n",
              "1     30733309  121.438354  121.595013  120.811718  121.512076   30733309   \n",
              "2     50884452  120.056069  121.134251  119.705890  120.931516   50884452   \n",
              "3     32112797  120.291057  121.078960  119.844118  120.903870   32112797   \n",
              "4     33667627  119.761181  120.401640  119.171406  119.669029   33667627   \n",
              "...        ...         ...         ...         ...         ...        ...   \n",
              "1253  33843125  314.960000  316.500000  310.324100  313.170000   33843125   \n",
              "1254  25432385  313.140000  318.520000  313.010000  315.030000   25432385   \n",
              "1255  27876215  319.230000  319.520000  316.200000  316.680000   27876215   \n",
              "1256  25672211  316.850000  320.890000  315.870000  318.660000   25672211   \n",
              "1257  20450754  318.890000  319.230000  315.350000  315.770000   20450754   \n",
              "\n",
              "      divCash  splitFactor  \n",
              "0         0.0          1.0  \n",
              "1         0.0          1.0  \n",
              "2         0.0          1.0  \n",
              "3         0.0          1.0  \n",
              "4         0.0          1.0  \n",
              "...       ...          ...  \n",
              "1253      0.0          1.0  \n",
              "1254      0.0          1.0  \n",
              "1255      0.0          1.0  \n",
              "1256      0.0          1.0  \n",
              "1257      0.0          1.0  \n",
              "\n",
              "[1258 rows x 14 columns]"
            ],
            "text/html": [
              "\n",
              "  <div id=\"df-d51fc8b9-5ef4-4b1e-aa59-856453425b76\">\n",
              "    <div class=\"colab-df-container\">\n",
              "      <div>\n",
              "<style scoped>\n",
              "    .dataframe tbody tr th:only-of-type {\n",
              "        vertical-align: middle;\n",
              "    }\n",
              "\n",
              "    .dataframe tbody tr th {\n",
              "        vertical-align: top;\n",
              "    }\n",
              "\n",
              "    .dataframe thead th {\n",
              "        text-align: right;\n",
              "    }\n",
              "</style>\n",
              "<table border=\"1\" class=\"dataframe\">\n",
              "  <thead>\n",
              "    <tr style=\"text-align: right;\">\n",
              "      <th></th>\n",
              "      <th>symbol</th>\n",
              "      <th>date</th>\n",
              "      <th>close</th>\n",
              "      <th>high</th>\n",
              "      <th>low</th>\n",
              "      <th>open</th>\n",
              "      <th>volume</th>\n",
              "      <th>adjClose</th>\n",
              "      <th>adjHigh</th>\n",
              "      <th>adjLow</th>\n",
              "      <th>adjOpen</th>\n",
              "      <th>adjVolume</th>\n",
              "      <th>divCash</th>\n",
              "      <th>splitFactor</th>\n",
              "    </tr>\n",
              "  </thead>\n",
              "  <tbody>\n",
              "    <tr>\n",
              "      <th>0</th>\n",
              "      <td>AAPL</td>\n",
              "      <td>2015-05-27 00:00:00+00:00</td>\n",
              "      <td>132.045</td>\n",
              "      <td>132.260</td>\n",
              "      <td>130.0500</td>\n",
              "      <td>130.34</td>\n",
              "      <td>45833246</td>\n",
              "      <td>121.682558</td>\n",
              "      <td>121.880685</td>\n",
              "      <td>119.844118</td>\n",
              "      <td>120.111360</td>\n",
              "      <td>45833246</td>\n",
              "      <td>0.0</td>\n",
              "      <td>1.0</td>\n",
              "    </tr>\n",
              "    <tr>\n",
              "      <th>1</th>\n",
              "      <td>AAPL</td>\n",
              "      <td>2015-05-28 00:00:00+00:00</td>\n",
              "      <td>131.780</td>\n",
              "      <td>131.950</td>\n",
              "      <td>131.1000</td>\n",
              "      <td>131.86</td>\n",
              "      <td>30733309</td>\n",
              "      <td>121.438354</td>\n",
              "      <td>121.595013</td>\n",
              "      <td>120.811718</td>\n",
              "      <td>121.512076</td>\n",
              "      <td>30733309</td>\n",
              "      <td>0.0</td>\n",
              "      <td>1.0</td>\n",
              "    </tr>\n",
              "    <tr>\n",
              "      <th>2</th>\n",
              "      <td>AAPL</td>\n",
              "      <td>2015-05-29 00:00:00+00:00</td>\n",
              "      <td>130.280</td>\n",
              "      <td>131.450</td>\n",
              "      <td>129.9000</td>\n",
              "      <td>131.23</td>\n",
              "      <td>50884452</td>\n",
              "      <td>120.056069</td>\n",
              "      <td>121.134251</td>\n",
              "      <td>119.705890</td>\n",
              "      <td>120.931516</td>\n",
              "      <td>50884452</td>\n",
              "      <td>0.0</td>\n",
              "      <td>1.0</td>\n",
              "    </tr>\n",
              "    <tr>\n",
              "      <th>3</th>\n",
              "      <td>AAPL</td>\n",
              "      <td>2015-06-01 00:00:00+00:00</td>\n",
              "      <td>130.535</td>\n",
              "      <td>131.390</td>\n",
              "      <td>130.0500</td>\n",
              "      <td>131.20</td>\n",
              "      <td>32112797</td>\n",
              "      <td>120.291057</td>\n",
              "      <td>121.078960</td>\n",
              "      <td>119.844118</td>\n",
              "      <td>120.903870</td>\n",
              "      <td>32112797</td>\n",
              "      <td>0.0</td>\n",
              "      <td>1.0</td>\n",
              "    </tr>\n",
              "    <tr>\n",
              "      <th>4</th>\n",
              "      <td>AAPL</td>\n",
              "      <td>2015-06-02 00:00:00+00:00</td>\n",
              "      <td>129.960</td>\n",
              "      <td>130.655</td>\n",
              "      <td>129.3200</td>\n",
              "      <td>129.86</td>\n",
              "      <td>33667627</td>\n",
              "      <td>119.761181</td>\n",
              "      <td>120.401640</td>\n",
              "      <td>119.171406</td>\n",
              "      <td>119.669029</td>\n",
              "      <td>33667627</td>\n",
              "      <td>0.0</td>\n",
              "      <td>1.0</td>\n",
              "    </tr>\n",
              "    <tr>\n",
              "      <th>...</th>\n",
              "      <td>...</td>\n",
              "      <td>...</td>\n",
              "      <td>...</td>\n",
              "      <td>...</td>\n",
              "      <td>...</td>\n",
              "      <td>...</td>\n",
              "      <td>...</td>\n",
              "      <td>...</td>\n",
              "      <td>...</td>\n",
              "      <td>...</td>\n",
              "      <td>...</td>\n",
              "      <td>...</td>\n",
              "      <td>...</td>\n",
              "      <td>...</td>\n",
              "    </tr>\n",
              "    <tr>\n",
              "      <th>1253</th>\n",
              "      <td>AAPL</td>\n",
              "      <td>2020-05-18 00:00:00+00:00</td>\n",
              "      <td>314.960</td>\n",
              "      <td>316.500</td>\n",
              "      <td>310.3241</td>\n",
              "      <td>313.17</td>\n",
              "      <td>33843125</td>\n",
              "      <td>314.960000</td>\n",
              "      <td>316.500000</td>\n",
              "      <td>310.324100</td>\n",
              "      <td>313.170000</td>\n",
              "      <td>33843125</td>\n",
              "      <td>0.0</td>\n",
              "      <td>1.0</td>\n",
              "    </tr>\n",
              "    <tr>\n",
              "      <th>1254</th>\n",
              "      <td>AAPL</td>\n",
              "      <td>2020-05-19 00:00:00+00:00</td>\n",
              "      <td>313.140</td>\n",
              "      <td>318.520</td>\n",
              "      <td>313.0100</td>\n",
              "      <td>315.03</td>\n",
              "      <td>25432385</td>\n",
              "      <td>313.140000</td>\n",
              "      <td>318.520000</td>\n",
              "      <td>313.010000</td>\n",
              "      <td>315.030000</td>\n",
              "      <td>25432385</td>\n",
              "      <td>0.0</td>\n",
              "      <td>1.0</td>\n",
              "    </tr>\n",
              "    <tr>\n",
              "      <th>1255</th>\n",
              "      <td>AAPL</td>\n",
              "      <td>2020-05-20 00:00:00+00:00</td>\n",
              "      <td>319.230</td>\n",
              "      <td>319.520</td>\n",
              "      <td>316.2000</td>\n",
              "      <td>316.68</td>\n",
              "      <td>27876215</td>\n",
              "      <td>319.230000</td>\n",
              "      <td>319.520000</td>\n",
              "      <td>316.200000</td>\n",
              "      <td>316.680000</td>\n",
              "      <td>27876215</td>\n",
              "      <td>0.0</td>\n",
              "      <td>1.0</td>\n",
              "    </tr>\n",
              "    <tr>\n",
              "      <th>1256</th>\n",
              "      <td>AAPL</td>\n",
              "      <td>2020-05-21 00:00:00+00:00</td>\n",
              "      <td>316.850</td>\n",
              "      <td>320.890</td>\n",
              "      <td>315.8700</td>\n",
              "      <td>318.66</td>\n",
              "      <td>25672211</td>\n",
              "      <td>316.850000</td>\n",
              "      <td>320.890000</td>\n",
              "      <td>315.870000</td>\n",
              "      <td>318.660000</td>\n",
              "      <td>25672211</td>\n",
              "      <td>0.0</td>\n",
              "      <td>1.0</td>\n",
              "    </tr>\n",
              "    <tr>\n",
              "      <th>1257</th>\n",
              "      <td>AAPL</td>\n",
              "      <td>2020-05-22 00:00:00+00:00</td>\n",
              "      <td>318.890</td>\n",
              "      <td>319.230</td>\n",
              "      <td>315.3500</td>\n",
              "      <td>315.77</td>\n",
              "      <td>20450754</td>\n",
              "      <td>318.890000</td>\n",
              "      <td>319.230000</td>\n",
              "      <td>315.350000</td>\n",
              "      <td>315.770000</td>\n",
              "      <td>20450754</td>\n",
              "      <td>0.0</td>\n",
              "      <td>1.0</td>\n",
              "    </tr>\n",
              "  </tbody>\n",
              "</table>\n",
              "<p>1258 rows × 14 columns</p>\n",
              "</div>\n",
              "      <button class=\"colab-df-convert\" onclick=\"convertToInteractive('df-d51fc8b9-5ef4-4b1e-aa59-856453425b76')\"\n",
              "              title=\"Convert this dataframe to an interactive table.\"\n",
              "              style=\"display:none;\">\n",
              "        \n",
              "  <svg xmlns=\"http://www.w3.org/2000/svg\" height=\"24px\"viewBox=\"0 0 24 24\"\n",
              "       width=\"24px\">\n",
              "    <path d=\"M0 0h24v24H0V0z\" fill=\"none\"/>\n",
              "    <path d=\"M18.56 5.44l.94 2.06.94-2.06 2.06-.94-2.06-.94-.94-2.06-.94 2.06-2.06.94zm-11 1L8.5 8.5l.94-2.06 2.06-.94-2.06-.94L8.5 2.5l-.94 2.06-2.06.94zm10 10l.94 2.06.94-2.06 2.06-.94-2.06-.94-.94-2.06-.94 2.06-2.06.94z\"/><path d=\"M17.41 7.96l-1.37-1.37c-.4-.4-.92-.59-1.43-.59-.52 0-1.04.2-1.43.59L10.3 9.45l-7.72 7.72c-.78.78-.78 2.05 0 2.83L4 21.41c.39.39.9.59 1.41.59.51 0 1.02-.2 1.41-.59l7.78-7.78 2.81-2.81c.8-.78.8-2.07 0-2.86zM5.41 20L4 18.59l7.72-7.72 1.47 1.35L5.41 20z\"/>\n",
              "  </svg>\n",
              "      </button>\n",
              "      \n",
              "  <style>\n",
              "    .colab-df-container {\n",
              "      display:flex;\n",
              "      flex-wrap:wrap;\n",
              "      gap: 12px;\n",
              "    }\n",
              "\n",
              "    .colab-df-convert {\n",
              "      background-color: #E8F0FE;\n",
              "      border: none;\n",
              "      border-radius: 50%;\n",
              "      cursor: pointer;\n",
              "      display: none;\n",
              "      fill: #1967D2;\n",
              "      height: 32px;\n",
              "      padding: 0 0 0 0;\n",
              "      width: 32px;\n",
              "    }\n",
              "\n",
              "    .colab-df-convert:hover {\n",
              "      background-color: #E2EBFA;\n",
              "      box-shadow: 0px 1px 2px rgba(60, 64, 67, 0.3), 0px 1px 3px 1px rgba(60, 64, 67, 0.15);\n",
              "      fill: #174EA6;\n",
              "    }\n",
              "\n",
              "    [theme=dark] .colab-df-convert {\n",
              "      background-color: #3B4455;\n",
              "      fill: #D2E3FC;\n",
              "    }\n",
              "\n",
              "    [theme=dark] .colab-df-convert:hover {\n",
              "      background-color: #434B5C;\n",
              "      box-shadow: 0px 1px 3px 1px rgba(0, 0, 0, 0.15);\n",
              "      filter: drop-shadow(0px 1px 2px rgba(0, 0, 0, 0.3));\n",
              "      fill: #FFFFFF;\n",
              "    }\n",
              "  </style>\n",
              "\n",
              "      <script>\n",
              "        const buttonEl =\n",
              "          document.querySelector('#df-d51fc8b9-5ef4-4b1e-aa59-856453425b76 button.colab-df-convert');\n",
              "        buttonEl.style.display =\n",
              "          google.colab.kernel.accessAllowed ? 'block' : 'none';\n",
              "\n",
              "        async function convertToInteractive(key) {\n",
              "          const element = document.querySelector('#df-d51fc8b9-5ef4-4b1e-aa59-856453425b76');\n",
              "          const dataTable =\n",
              "            await google.colab.kernel.invokeFunction('convertToInteractive',\n",
              "                                                     [key], {});\n",
              "          if (!dataTable) return;\n",
              "\n",
              "          const docLinkHtml = 'Like what you see? Visit the ' +\n",
              "            '<a target=\"_blank\" href=https://colab.research.google.com/notebooks/data_table.ipynb>data table notebook</a>'\n",
              "            + ' to learn more about interactive tables.';\n",
              "          element.innerHTML = '';\n",
              "          dataTable['output_type'] = 'display_data';\n",
              "          await google.colab.output.renderOutput(dataTable, element);\n",
              "          const docLink = document.createElement('div');\n",
              "          docLink.innerHTML = docLinkHtml;\n",
              "          element.appendChild(docLink);\n",
              "        }\n",
              "      </script>\n",
              "    </div>\n",
              "  </div>\n",
              "  "
            ]
          },
          "metadata": {},
          "execution_count": 5
        }
      ],
      "source": [
        "df"
      ]
    },
    {
      "cell_type": "code",
      "execution_count": null,
      "id": "583436b1",
      "metadata": {
        "colab": {
          "base_uri": "https://localhost:8080/"
        },
        "id": "583436b1",
        "outputId": "9058987f-cbf6-4ce9-a84a-d39166f6fef5"
      },
      "outputs": [
        {
          "output_type": "stream",
          "name": "stdout",
          "text": [
            "symbol         0\n",
            "date           0\n",
            "close          0\n",
            "high           0\n",
            "low            0\n",
            "open           0\n",
            "volume         0\n",
            "adjClose       0\n",
            "adjHigh        0\n",
            "adjLow         0\n",
            "adjOpen        0\n",
            "adjVolume      0\n",
            "divCash        0\n",
            "splitFactor    0\n",
            "dtype: int64\n",
            "<class 'pandas.core.frame.DataFrame'>\n",
            "RangeIndex: 1258 entries, 0 to 1257\n",
            "Data columns (total 14 columns):\n",
            " #   Column       Non-Null Count  Dtype  \n",
            "---  ------       --------------  -----  \n",
            " 0   symbol       1258 non-null   object \n",
            " 1   date         1258 non-null   object \n",
            " 2   close        1258 non-null   float64\n",
            " 3   high         1258 non-null   float64\n",
            " 4   low          1258 non-null   float64\n",
            " 5   open         1258 non-null   float64\n",
            " 6   volume       1258 non-null   int64  \n",
            " 7   adjClose     1258 non-null   float64\n",
            " 8   adjHigh      1258 non-null   float64\n",
            " 9   adjLow       1258 non-null   float64\n",
            " 10  adjOpen      1258 non-null   float64\n",
            " 11  adjVolume    1258 non-null   int64  \n",
            " 12  divCash      1258 non-null   float64\n",
            " 13  splitFactor  1258 non-null   float64\n",
            "dtypes: float64(10), int64(2), object(2)\n",
            "memory usage: 137.7+ KB\n"
          ]
        }
      ],
      "source": [
        "df['symbol'].unique()\n",
        "print(df.isna().sum())\n",
        "df.info()"
      ]
    },
    {
      "cell_type": "code",
      "execution_count": null,
      "id": "f4d9e2b5",
      "metadata": {
        "id": "f4d9e2b5",
        "outputId": "d56f3b60-c82b-4775-cbb2-9894a970120f"
      },
      "outputs": [
        {
          "data": {
            "text/html": [
              "<div>\n",
              "<style scoped>\n",
              "    .dataframe tbody tr th:only-of-type {\n",
              "        vertical-align: middle;\n",
              "    }\n",
              "\n",
              "    .dataframe tbody tr th {\n",
              "        vertical-align: top;\n",
              "    }\n",
              "\n",
              "    .dataframe thead th {\n",
              "        text-align: right;\n",
              "    }\n",
              "</style>\n",
              "<table border=\"1\" class=\"dataframe\">\n",
              "  <thead>\n",
              "    <tr style=\"text-align: right;\">\n",
              "      <th></th>\n",
              "      <th>symbol</th>\n",
              "      <th>date</th>\n",
              "      <th>close</th>\n",
              "      <th>high</th>\n",
              "      <th>low</th>\n",
              "      <th>open</th>\n",
              "      <th>volume</th>\n",
              "      <th>adjClose</th>\n",
              "      <th>adjHigh</th>\n",
              "      <th>adjLow</th>\n",
              "      <th>adjOpen</th>\n",
              "      <th>adjVolume</th>\n",
              "      <th>divCash</th>\n",
              "      <th>splitFactor</th>\n",
              "    </tr>\n",
              "  </thead>\n",
              "  <tbody>\n",
              "    <tr>\n",
              "      <th>0</th>\n",
              "      <td>AAPL</td>\n",
              "      <td>2015-05-27 00:00:00+00:00</td>\n",
              "      <td>132.045</td>\n",
              "      <td>132.260</td>\n",
              "      <td>130.05</td>\n",
              "      <td>130.34</td>\n",
              "      <td>45833246</td>\n",
              "      <td>121.682558</td>\n",
              "      <td>121.880685</td>\n",
              "      <td>119.844118</td>\n",
              "      <td>120.111360</td>\n",
              "      <td>45833246</td>\n",
              "      <td>0.0</td>\n",
              "      <td>1.0</td>\n",
              "    </tr>\n",
              "    <tr>\n",
              "      <th>1</th>\n",
              "      <td>AAPL</td>\n",
              "      <td>2015-05-28 00:00:00+00:00</td>\n",
              "      <td>131.780</td>\n",
              "      <td>131.950</td>\n",
              "      <td>131.10</td>\n",
              "      <td>131.86</td>\n",
              "      <td>30733309</td>\n",
              "      <td>121.438354</td>\n",
              "      <td>121.595013</td>\n",
              "      <td>120.811718</td>\n",
              "      <td>121.512076</td>\n",
              "      <td>30733309</td>\n",
              "      <td>0.0</td>\n",
              "      <td>1.0</td>\n",
              "    </tr>\n",
              "    <tr>\n",
              "      <th>2</th>\n",
              "      <td>AAPL</td>\n",
              "      <td>2015-05-29 00:00:00+00:00</td>\n",
              "      <td>130.280</td>\n",
              "      <td>131.450</td>\n",
              "      <td>129.90</td>\n",
              "      <td>131.23</td>\n",
              "      <td>50884452</td>\n",
              "      <td>120.056069</td>\n",
              "      <td>121.134251</td>\n",
              "      <td>119.705890</td>\n",
              "      <td>120.931516</td>\n",
              "      <td>50884452</td>\n",
              "      <td>0.0</td>\n",
              "      <td>1.0</td>\n",
              "    </tr>\n",
              "    <tr>\n",
              "      <th>3</th>\n",
              "      <td>AAPL</td>\n",
              "      <td>2015-06-01 00:00:00+00:00</td>\n",
              "      <td>130.535</td>\n",
              "      <td>131.390</td>\n",
              "      <td>130.05</td>\n",
              "      <td>131.20</td>\n",
              "      <td>32112797</td>\n",
              "      <td>120.291057</td>\n",
              "      <td>121.078960</td>\n",
              "      <td>119.844118</td>\n",
              "      <td>120.903870</td>\n",
              "      <td>32112797</td>\n",
              "      <td>0.0</td>\n",
              "      <td>1.0</td>\n",
              "    </tr>\n",
              "    <tr>\n",
              "      <th>4</th>\n",
              "      <td>AAPL</td>\n",
              "      <td>2015-06-02 00:00:00+00:00</td>\n",
              "      <td>129.960</td>\n",
              "      <td>130.655</td>\n",
              "      <td>129.32</td>\n",
              "      <td>129.86</td>\n",
              "      <td>33667627</td>\n",
              "      <td>119.761181</td>\n",
              "      <td>120.401640</td>\n",
              "      <td>119.171406</td>\n",
              "      <td>119.669029</td>\n",
              "      <td>33667627</td>\n",
              "      <td>0.0</td>\n",
              "      <td>1.0</td>\n",
              "    </tr>\n",
              "  </tbody>\n",
              "</table>\n",
              "</div>"
            ],
            "text/plain": [
              "  symbol                       date    close     high     low    open  \\\n",
              "0   AAPL  2015-05-27 00:00:00+00:00  132.045  132.260  130.05  130.34   \n",
              "1   AAPL  2015-05-28 00:00:00+00:00  131.780  131.950  131.10  131.86   \n",
              "2   AAPL  2015-05-29 00:00:00+00:00  130.280  131.450  129.90  131.23   \n",
              "3   AAPL  2015-06-01 00:00:00+00:00  130.535  131.390  130.05  131.20   \n",
              "4   AAPL  2015-06-02 00:00:00+00:00  129.960  130.655  129.32  129.86   \n",
              "\n",
              "     volume    adjClose     adjHigh      adjLow     adjOpen  adjVolume  \\\n",
              "0  45833246  121.682558  121.880685  119.844118  120.111360   45833246   \n",
              "1  30733309  121.438354  121.595013  120.811718  121.512076   30733309   \n",
              "2  50884452  120.056069  121.134251  119.705890  120.931516   50884452   \n",
              "3  32112797  120.291057  121.078960  119.844118  120.903870   32112797   \n",
              "4  33667627  119.761181  120.401640  119.171406  119.669029   33667627   \n",
              "\n",
              "   divCash  splitFactor  \n",
              "0      0.0          1.0  \n",
              "1      0.0          1.0  \n",
              "2      0.0          1.0  \n",
              "3      0.0          1.0  \n",
              "4      0.0          1.0  "
            ]
          },
          "execution_count": 7,
          "metadata": {},
          "output_type": "execute_result"
        }
      ],
      "source": [
        "df.head()"
      ]
    },
    {
      "cell_type": "code",
      "execution_count": null,
      "id": "4afaba5d",
      "metadata": {
        "id": "4afaba5d",
        "outputId": "e8acd4a9-fd29-462f-e9b2-76d9b47a490a"
      },
      "outputs": [
        {
          "name": "stdout",
          "output_type": "stream",
          "text": [
            "[0.   0.52 0.57 0.63 0.73 0.77 0.82]\n"
          ]
        },
        {
          "data": {
            "text/plain": [
              "array([0.  , 0.52, 0.57, 0.63, 0.73, 0.77, 0.82])"
            ]
          },
          "execution_count": 8,
          "metadata": {},
          "output_type": "execute_result"
        }
      ],
      "source": [
        "print(df.divCash.unique())\n",
        "df.divCash.unique()"
      ]
    },
    {
      "cell_type": "code",
      "execution_count": null,
      "id": "e406a531",
      "metadata": {
        "id": "e406a531",
        "outputId": "e59b428a-b3e6-4615-f40f-aa89c3fb9e93"
      },
      "outputs": [
        {
          "data": {
            "text/html": [
              "<div>\n",
              "<style scoped>\n",
              "    .dataframe tbody tr th:only-of-type {\n",
              "        vertical-align: middle;\n",
              "    }\n",
              "\n",
              "    .dataframe tbody tr th {\n",
              "        vertical-align: top;\n",
              "    }\n",
              "\n",
              "    .dataframe thead th {\n",
              "        text-align: right;\n",
              "    }\n",
              "</style>\n",
              "<table border=\"1\" class=\"dataframe\">\n",
              "  <thead>\n",
              "    <tr style=\"text-align: right;\">\n",
              "      <th></th>\n",
              "      <th>symbol</th>\n",
              "      <th>date</th>\n",
              "      <th>close</th>\n",
              "      <th>high</th>\n",
              "      <th>low</th>\n",
              "      <th>open</th>\n",
              "      <th>volume</th>\n",
              "      <th>adjClose</th>\n",
              "      <th>adjHigh</th>\n",
              "      <th>adjLow</th>\n",
              "      <th>adjOpen</th>\n",
              "      <th>adjVolume</th>\n",
              "      <th>divCash</th>\n",
              "      <th>splitFactor</th>\n",
              "    </tr>\n",
              "  </thead>\n",
              "  <tbody>\n",
              "    <tr>\n",
              "      <th>0</th>\n",
              "      <td>AAPL</td>\n",
              "      <td>2015-05-27 00:00:00+00:00</td>\n",
              "      <td>132.045</td>\n",
              "      <td>132.260</td>\n",
              "      <td>130.05</td>\n",
              "      <td>130.34</td>\n",
              "      <td>45833246</td>\n",
              "      <td>121.682558</td>\n",
              "      <td>121.880685</td>\n",
              "      <td>119.844118</td>\n",
              "      <td>120.111360</td>\n",
              "      <td>45833246</td>\n",
              "      <td>0.0</td>\n",
              "      <td>1.0</td>\n",
              "    </tr>\n",
              "    <tr>\n",
              "      <th>1</th>\n",
              "      <td>AAPL</td>\n",
              "      <td>2015-05-28 00:00:00+00:00</td>\n",
              "      <td>131.780</td>\n",
              "      <td>131.950</td>\n",
              "      <td>131.10</td>\n",
              "      <td>131.86</td>\n",
              "      <td>30733309</td>\n",
              "      <td>121.438354</td>\n",
              "      <td>121.595013</td>\n",
              "      <td>120.811718</td>\n",
              "      <td>121.512076</td>\n",
              "      <td>30733309</td>\n",
              "      <td>0.0</td>\n",
              "      <td>1.0</td>\n",
              "    </tr>\n",
              "    <tr>\n",
              "      <th>2</th>\n",
              "      <td>AAPL</td>\n",
              "      <td>2015-05-29 00:00:00+00:00</td>\n",
              "      <td>130.280</td>\n",
              "      <td>131.450</td>\n",
              "      <td>129.90</td>\n",
              "      <td>131.23</td>\n",
              "      <td>50884452</td>\n",
              "      <td>120.056069</td>\n",
              "      <td>121.134251</td>\n",
              "      <td>119.705890</td>\n",
              "      <td>120.931516</td>\n",
              "      <td>50884452</td>\n",
              "      <td>0.0</td>\n",
              "      <td>1.0</td>\n",
              "    </tr>\n",
              "    <tr>\n",
              "      <th>3</th>\n",
              "      <td>AAPL</td>\n",
              "      <td>2015-06-01 00:00:00+00:00</td>\n",
              "      <td>130.535</td>\n",
              "      <td>131.390</td>\n",
              "      <td>130.05</td>\n",
              "      <td>131.20</td>\n",
              "      <td>32112797</td>\n",
              "      <td>120.291057</td>\n",
              "      <td>121.078960</td>\n",
              "      <td>119.844118</td>\n",
              "      <td>120.903870</td>\n",
              "      <td>32112797</td>\n",
              "      <td>0.0</td>\n",
              "      <td>1.0</td>\n",
              "    </tr>\n",
              "    <tr>\n",
              "      <th>4</th>\n",
              "      <td>AAPL</td>\n",
              "      <td>2015-06-02 00:00:00+00:00</td>\n",
              "      <td>129.960</td>\n",
              "      <td>130.655</td>\n",
              "      <td>129.32</td>\n",
              "      <td>129.86</td>\n",
              "      <td>33667627</td>\n",
              "      <td>119.761181</td>\n",
              "      <td>120.401640</td>\n",
              "      <td>119.171406</td>\n",
              "      <td>119.669029</td>\n",
              "      <td>33667627</td>\n",
              "      <td>0.0</td>\n",
              "      <td>1.0</td>\n",
              "    </tr>\n",
              "    <tr>\n",
              "      <th>5</th>\n",
              "      <td>AAPL</td>\n",
              "      <td>2015-06-03 00:00:00+00:00</td>\n",
              "      <td>130.120</td>\n",
              "      <td>130.940</td>\n",
              "      <td>129.90</td>\n",
              "      <td>130.66</td>\n",
              "      <td>30983542</td>\n",
              "      <td>119.908625</td>\n",
              "      <td>120.664274</td>\n",
              "      <td>119.705890</td>\n",
              "      <td>120.406248</td>\n",
              "      <td>30983542</td>\n",
              "      <td>0.0</td>\n",
              "      <td>1.0</td>\n",
              "    </tr>\n",
              "    <tr>\n",
              "      <th>6</th>\n",
              "      <td>AAPL</td>\n",
              "      <td>2015-06-04 00:00:00+00:00</td>\n",
              "      <td>129.360</td>\n",
              "      <td>130.580</td>\n",
              "      <td>128.91</td>\n",
              "      <td>129.58</td>\n",
              "      <td>38450118</td>\n",
              "      <td>119.208267</td>\n",
              "      <td>120.332526</td>\n",
              "      <td>118.793582</td>\n",
              "      <td>119.411002</td>\n",
              "      <td>38450118</td>\n",
              "      <td>0.0</td>\n",
              "      <td>1.0</td>\n",
              "    </tr>\n",
              "    <tr>\n",
              "      <th>7</th>\n",
              "      <td>AAPL</td>\n",
              "      <td>2015-06-05 00:00:00+00:00</td>\n",
              "      <td>128.650</td>\n",
              "      <td>129.690</td>\n",
              "      <td>128.36</td>\n",
              "      <td>129.50</td>\n",
              "      <td>35626800</td>\n",
              "      <td>118.553986</td>\n",
              "      <td>119.512370</td>\n",
              "      <td>118.286744</td>\n",
              "      <td>119.337280</td>\n",
              "      <td>35626800</td>\n",
              "      <td>0.0</td>\n",
              "      <td>1.0</td>\n",
              "    </tr>\n",
              "    <tr>\n",
              "      <th>8</th>\n",
              "      <td>AAPL</td>\n",
              "      <td>2015-06-08 00:00:00+00:00</td>\n",
              "      <td>127.800</td>\n",
              "      <td>129.210</td>\n",
              "      <td>126.83</td>\n",
              "      <td>128.90</td>\n",
              "      <td>52674786</td>\n",
              "      <td>117.770691</td>\n",
              "      <td>119.070039</td>\n",
              "      <td>116.876813</td>\n",
              "      <td>118.784366</td>\n",
              "      <td>52674786</td>\n",
              "      <td>0.0</td>\n",
              "      <td>1.0</td>\n",
              "    </tr>\n",
              "    <tr>\n",
              "      <th>9</th>\n",
              "      <td>AAPL</td>\n",
              "      <td>2015-06-09 00:00:00+00:00</td>\n",
              "      <td>127.420</td>\n",
              "      <td>128.080</td>\n",
              "      <td>125.62</td>\n",
              "      <td>126.70</td>\n",
              "      <td>56075420</td>\n",
              "      <td>117.420512</td>\n",
              "      <td>118.028717</td>\n",
              "      <td>115.761770</td>\n",
              "      <td>116.757015</td>\n",
              "      <td>56075420</td>\n",
              "      <td>0.0</td>\n",
              "      <td>1.0</td>\n",
              "    </tr>\n",
              "  </tbody>\n",
              "</table>\n",
              "</div>"
            ],
            "text/plain": [
              "  symbol                      date    close     high     low    open  \\\n",
              "0   AAPL 2015-05-27 00:00:00+00:00  132.045  132.260  130.05  130.34   \n",
              "1   AAPL 2015-05-28 00:00:00+00:00  131.780  131.950  131.10  131.86   \n",
              "2   AAPL 2015-05-29 00:00:00+00:00  130.280  131.450  129.90  131.23   \n",
              "3   AAPL 2015-06-01 00:00:00+00:00  130.535  131.390  130.05  131.20   \n",
              "4   AAPL 2015-06-02 00:00:00+00:00  129.960  130.655  129.32  129.86   \n",
              "5   AAPL 2015-06-03 00:00:00+00:00  130.120  130.940  129.90  130.66   \n",
              "6   AAPL 2015-06-04 00:00:00+00:00  129.360  130.580  128.91  129.58   \n",
              "7   AAPL 2015-06-05 00:00:00+00:00  128.650  129.690  128.36  129.50   \n",
              "8   AAPL 2015-06-08 00:00:00+00:00  127.800  129.210  126.83  128.90   \n",
              "9   AAPL 2015-06-09 00:00:00+00:00  127.420  128.080  125.62  126.70   \n",
              "\n",
              "     volume    adjClose     adjHigh      adjLow     adjOpen  adjVolume  \\\n",
              "0  45833246  121.682558  121.880685  119.844118  120.111360   45833246   \n",
              "1  30733309  121.438354  121.595013  120.811718  121.512076   30733309   \n",
              "2  50884452  120.056069  121.134251  119.705890  120.931516   50884452   \n",
              "3  32112797  120.291057  121.078960  119.844118  120.903870   32112797   \n",
              "4  33667627  119.761181  120.401640  119.171406  119.669029   33667627   \n",
              "5  30983542  119.908625  120.664274  119.705890  120.406248   30983542   \n",
              "6  38450118  119.208267  120.332526  118.793582  119.411002   38450118   \n",
              "7  35626800  118.553986  119.512370  118.286744  119.337280   35626800   \n",
              "8  52674786  117.770691  119.070039  116.876813  118.784366   52674786   \n",
              "9  56075420  117.420512  118.028717  115.761770  116.757015   56075420   \n",
              "\n",
              "   divCash  splitFactor  \n",
              "0      0.0          1.0  \n",
              "1      0.0          1.0  \n",
              "2      0.0          1.0  \n",
              "3      0.0          1.0  \n",
              "4      0.0          1.0  \n",
              "5      0.0          1.0  \n",
              "6      0.0          1.0  \n",
              "7      0.0          1.0  \n",
              "8      0.0          1.0  \n",
              "9      0.0          1.0  "
            ]
          },
          "execution_count": 9,
          "metadata": {},
          "output_type": "execute_result"
        }
      ],
      "source": [
        "df['date']=pd.to_datetime(df.date)\n",
        "df.head(10)"
      ]
    },
    {
      "cell_type": "code",
      "execution_count": null,
      "id": "18466761",
      "metadata": {
        "id": "18466761",
        "outputId": "a1f0be89-5891-4468-9948-98d4da121fc0"
      },
      "outputs": [
        {
          "name": "stderr",
          "output_type": "stream",
          "text": [
            "C:\\Users\\Emmanuel\\AppData\\Local\\Programs\\Python\\Python310\\lib\\site-packages\\pandas\\core\\arrays\\datetimes.py:1162: UserWarning: Converting to PeriodArray/Index representation will drop timezone information.\n",
            "  warnings.warn(\n"
          ]
        },
        {
          "data": {
            "text/html": [
              "<div>\n",
              "<style scoped>\n",
              "    .dataframe tbody tr th:only-of-type {\n",
              "        vertical-align: middle;\n",
              "    }\n",
              "\n",
              "    .dataframe tbody tr th {\n",
              "        vertical-align: top;\n",
              "    }\n",
              "\n",
              "    .dataframe thead th {\n",
              "        text-align: right;\n",
              "    }\n",
              "</style>\n",
              "<table border=\"1\" class=\"dataframe\">\n",
              "  <thead>\n",
              "    <tr style=\"text-align: right;\">\n",
              "      <th></th>\n",
              "      <th>close</th>\n",
              "      <th>high</th>\n",
              "      <th>low</th>\n",
              "      <th>open</th>\n",
              "      <th>volume</th>\n",
              "      <th>adjClose</th>\n",
              "      <th>adjHigh</th>\n",
              "      <th>adjLow</th>\n",
              "      <th>adjOpen</th>\n",
              "      <th>adjVolume</th>\n",
              "      <th>divCash</th>\n",
              "      <th>splitFactor</th>\n",
              "    </tr>\n",
              "    <tr>\n",
              "      <th>date</th>\n",
              "      <th></th>\n",
              "      <th></th>\n",
              "      <th></th>\n",
              "      <th></th>\n",
              "      <th></th>\n",
              "      <th></th>\n",
              "      <th></th>\n",
              "      <th></th>\n",
              "      <th></th>\n",
              "      <th></th>\n",
              "      <th></th>\n",
              "      <th></th>\n",
              "    </tr>\n",
              "  </thead>\n",
              "  <tbody>\n",
              "    <tr>\n",
              "      <th>2015-05</th>\n",
              "      <td>131.368333</td>\n",
              "      <td>131.886667</td>\n",
              "      <td>130.350000</td>\n",
              "      <td>131.143333</td>\n",
              "      <td>4.248367e+07</td>\n",
              "      <td>121.058993</td>\n",
              "      <td>121.536650</td>\n",
              "      <td>120.120575</td>\n",
              "      <td>120.851651</td>\n",
              "      <td>4.248367e+07</td>\n",
              "      <td>0.000000</td>\n",
              "      <td>1.0</td>\n",
              "    </tr>\n",
              "    <tr>\n",
              "      <th>2015-06</th>\n",
              "      <td>127.806364</td>\n",
              "      <td>128.761136</td>\n",
              "      <td>127.240645</td>\n",
              "      <td>128.055227</td>\n",
              "      <td>3.993667e+07</td>\n",
              "      <td>117.776555</td>\n",
              "      <td>118.656400</td>\n",
              "      <td>117.255232</td>\n",
              "      <td>118.005889</td>\n",
              "      <td>3.993667e+07</td>\n",
              "      <td>0.000000</td>\n",
              "      <td>1.0</td>\n",
              "    </tr>\n",
              "    <tr>\n",
              "      <th>2015-07</th>\n",
              "      <td>125.335455</td>\n",
              "      <td>126.203518</td>\n",
              "      <td>124.340000</td>\n",
              "      <td>125.450455</td>\n",
              "      <td>4.810367e+07</td>\n",
              "      <td>115.499554</td>\n",
              "      <td>116.299495</td>\n",
              "      <td>114.582220</td>\n",
              "      <td>115.605530</td>\n",
              "      <td>4.810367e+07</td>\n",
              "      <td>0.000000</td>\n",
              "      <td>1.0</td>\n",
              "    </tr>\n",
              "    <tr>\n",
              "      <th>2015-08</th>\n",
              "      <td>113.394762</td>\n",
              "      <td>115.500000</td>\n",
              "      <td>111.290476</td>\n",
              "      <td>113.445000</td>\n",
              "      <td>7.649329e+07</td>\n",
              "      <td>104.898828</td>\n",
              "      <td>106.845787</td>\n",
              "      <td>102.952033</td>\n",
              "      <td>104.944661</td>\n",
              "      <td>7.649329e+07</td>\n",
              "      <td>0.024762</td>\n",
              "      <td>1.0</td>\n",
              "    </tr>\n",
              "    <tr>\n",
              "      <th>2015-09</th>\n",
              "      <td>112.797619</td>\n",
              "      <td>114.207262</td>\n",
              "      <td>111.523624</td>\n",
              "      <td>112.998095</td>\n",
              "      <td>5.732329e+07</td>\n",
              "      <td>104.415130</td>\n",
              "      <td>105.720016</td>\n",
              "      <td>103.235811</td>\n",
              "      <td>104.600708</td>\n",
              "      <td>5.732329e+07</td>\n",
              "      <td>0.000000</td>\n",
              "      <td>1.0</td>\n",
              "    </tr>\n",
              "    <tr>\n",
              "      <th>...</th>\n",
              "      <td>...</td>\n",
              "      <td>...</td>\n",
              "      <td>...</td>\n",
              "      <td>...</td>\n",
              "      <td>...</td>\n",
              "      <td>...</td>\n",
              "      <td>...</td>\n",
              "      <td>...</td>\n",
              "      <td>...</td>\n",
              "      <td>...</td>\n",
              "      <td>...</td>\n",
              "      <td>...</td>\n",
              "    </tr>\n",
              "    <tr>\n",
              "      <th>2020-01</th>\n",
              "      <td>311.916190</td>\n",
              "      <td>314.326186</td>\n",
              "      <td>308.831181</td>\n",
              "      <td>311.170881</td>\n",
              "      <td>3.495448e+07</td>\n",
              "      <td>310.346940</td>\n",
              "      <td>312.744811</td>\n",
              "      <td>307.277451</td>\n",
              "      <td>309.605380</td>\n",
              "      <td>3.495448e+07</td>\n",
              "      <td>0.000000</td>\n",
              "      <td>1.0</td>\n",
              "    </tr>\n",
              "    <tr>\n",
              "      <th>2020-02</th>\n",
              "      <td>311.270526</td>\n",
              "      <td>315.252632</td>\n",
              "      <td>306.726805</td>\n",
              "      <td>310.313158</td>\n",
              "      <td>3.974859e+07</td>\n",
              "      <td>310.289141</td>\n",
              "      <td>314.259619</td>\n",
              "      <td>305.759809</td>\n",
              "      <td>309.335364</td>\n",
              "      <td>3.974859e+07</td>\n",
              "      <td>0.040526</td>\n",
              "      <td>1.0</td>\n",
              "    </tr>\n",
              "    <tr>\n",
              "      <th>2020-03</th>\n",
              "      <td>262.444091</td>\n",
              "      <td>269.692714</td>\n",
              "      <td>254.846364</td>\n",
              "      <td>261.073409</td>\n",
              "      <td>7.137872e+07</td>\n",
              "      <td>261.752005</td>\n",
              "      <td>268.981512</td>\n",
              "      <td>254.174313</td>\n",
              "      <td>260.384938</td>\n",
              "      <td>7.137872e+07</td>\n",
              "      <td>0.000000</td>\n",
              "      <td>1.0</td>\n",
              "    </tr>\n",
              "    <tr>\n",
              "      <th>2020-04</th>\n",
              "      <td>272.386190</td>\n",
              "      <td>275.781071</td>\n",
              "      <td>268.084490</td>\n",
              "      <td>271.811429</td>\n",
              "      <td>3.888242e+07</td>\n",
              "      <td>271.667886</td>\n",
              "      <td>275.053815</td>\n",
              "      <td>267.377530</td>\n",
              "      <td>271.094640</td>\n",
              "      <td>3.888242e+07</td>\n",
              "      <td>0.000000</td>\n",
              "      <td>1.0</td>\n",
              "    </tr>\n",
              "    <tr>\n",
              "      <th>2020-05</th>\n",
              "      <td>308.042500</td>\n",
              "      <td>311.093000</td>\n",
              "      <td>304.100706</td>\n",
              "      <td>306.378125</td>\n",
              "      <td>3.563717e+07</td>\n",
              "      <td>307.797884</td>\n",
              "      <td>310.845428</td>\n",
              "      <td>303.858842</td>\n",
              "      <td>306.135158</td>\n",
              "      <td>3.563717e+07</td>\n",
              "      <td>0.051250</td>\n",
              "      <td>1.0</td>\n",
              "    </tr>\n",
              "  </tbody>\n",
              "</table>\n",
              "<p>61 rows × 12 columns</p>\n",
              "</div>"
            ],
            "text/plain": [
              "              close        high         low        open        volume  \\\n",
              "date                                                                    \n",
              "2015-05  131.368333  131.886667  130.350000  131.143333  4.248367e+07   \n",
              "2015-06  127.806364  128.761136  127.240645  128.055227  3.993667e+07   \n",
              "2015-07  125.335455  126.203518  124.340000  125.450455  4.810367e+07   \n",
              "2015-08  113.394762  115.500000  111.290476  113.445000  7.649329e+07   \n",
              "2015-09  112.797619  114.207262  111.523624  112.998095  5.732329e+07   \n",
              "...             ...         ...         ...         ...           ...   \n",
              "2020-01  311.916190  314.326186  308.831181  311.170881  3.495448e+07   \n",
              "2020-02  311.270526  315.252632  306.726805  310.313158  3.974859e+07   \n",
              "2020-03  262.444091  269.692714  254.846364  261.073409  7.137872e+07   \n",
              "2020-04  272.386190  275.781071  268.084490  271.811429  3.888242e+07   \n",
              "2020-05  308.042500  311.093000  304.100706  306.378125  3.563717e+07   \n",
              "\n",
              "           adjClose     adjHigh      adjLow     adjOpen     adjVolume  \\\n",
              "date                                                                    \n",
              "2015-05  121.058993  121.536650  120.120575  120.851651  4.248367e+07   \n",
              "2015-06  117.776555  118.656400  117.255232  118.005889  3.993667e+07   \n",
              "2015-07  115.499554  116.299495  114.582220  115.605530  4.810367e+07   \n",
              "2015-08  104.898828  106.845787  102.952033  104.944661  7.649329e+07   \n",
              "2015-09  104.415130  105.720016  103.235811  104.600708  5.732329e+07   \n",
              "...             ...         ...         ...         ...           ...   \n",
              "2020-01  310.346940  312.744811  307.277451  309.605380  3.495448e+07   \n",
              "2020-02  310.289141  314.259619  305.759809  309.335364  3.974859e+07   \n",
              "2020-03  261.752005  268.981512  254.174313  260.384938  7.137872e+07   \n",
              "2020-04  271.667886  275.053815  267.377530  271.094640  3.888242e+07   \n",
              "2020-05  307.797884  310.845428  303.858842  306.135158  3.563717e+07   \n",
              "\n",
              "          divCash  splitFactor  \n",
              "date                            \n",
              "2015-05  0.000000          1.0  \n",
              "2015-06  0.000000          1.0  \n",
              "2015-07  0.000000          1.0  \n",
              "2015-08  0.024762          1.0  \n",
              "2015-09  0.000000          1.0  \n",
              "...           ...          ...  \n",
              "2020-01  0.000000          1.0  \n",
              "2020-02  0.040526          1.0  \n",
              "2020-03  0.000000          1.0  \n",
              "2020-04  0.000000          1.0  \n",
              "2020-05  0.051250          1.0  \n",
              "\n",
              "[61 rows x 12 columns]"
            ]
          },
          "execution_count": 10,
          "metadata": {},
          "output_type": "execute_result"
        }
      ],
      "source": [
        "df.groupby(df['date'].dt.to_period('M')).mean()"
      ]
    },
    {
      "cell_type": "code",
      "execution_count": null,
      "id": "2e0914be",
      "metadata": {
        "id": "2e0914be",
        "outputId": "2db7fdc0-9dec-42dd-cdfb-674c487f09ae"
      },
      "outputs": [
        {
          "data": {
            "text/html": [
              "<div>\n",
              "<style scoped>\n",
              "    .dataframe tbody tr th:only-of-type {\n",
              "        vertical-align: middle;\n",
              "    }\n",
              "\n",
              "    .dataframe tbody tr th {\n",
              "        vertical-align: top;\n",
              "    }\n",
              "\n",
              "    .dataframe thead th {\n",
              "        text-align: right;\n",
              "    }\n",
              "</style>\n",
              "<table border=\"1\" class=\"dataframe\">\n",
              "  <thead>\n",
              "    <tr style=\"text-align: right;\">\n",
              "      <th></th>\n",
              "      <th>symbol</th>\n",
              "      <th>date</th>\n",
              "      <th>close</th>\n",
              "      <th>high</th>\n",
              "      <th>low</th>\n",
              "      <th>open</th>\n",
              "      <th>volume</th>\n",
              "      <th>adjClose</th>\n",
              "      <th>adjHigh</th>\n",
              "      <th>adjLow</th>\n",
              "      <th>adjOpen</th>\n",
              "      <th>adjVolume</th>\n",
              "      <th>divCash</th>\n",
              "      <th>splitFactor</th>\n",
              "    </tr>\n",
              "  </thead>\n",
              "  <tbody>\n",
              "    <tr>\n",
              "      <th>0</th>\n",
              "      <td>AAPL</td>\n",
              "      <td>2015-05-27 00:00:00+00:00</td>\n",
              "      <td>132.045</td>\n",
              "      <td>132.260</td>\n",
              "      <td>130.05</td>\n",
              "      <td>130.34</td>\n",
              "      <td>45833246</td>\n",
              "      <td>121.682558</td>\n",
              "      <td>121.880685</td>\n",
              "      <td>119.844118</td>\n",
              "      <td>120.111360</td>\n",
              "      <td>45833246</td>\n",
              "      <td>0.0</td>\n",
              "      <td>1.0</td>\n",
              "    </tr>\n",
              "    <tr>\n",
              "      <th>1</th>\n",
              "      <td>AAPL</td>\n",
              "      <td>2015-05-28 00:00:00+00:00</td>\n",
              "      <td>131.780</td>\n",
              "      <td>131.950</td>\n",
              "      <td>131.10</td>\n",
              "      <td>131.86</td>\n",
              "      <td>30733309</td>\n",
              "      <td>121.438354</td>\n",
              "      <td>121.595013</td>\n",
              "      <td>120.811718</td>\n",
              "      <td>121.512076</td>\n",
              "      <td>30733309</td>\n",
              "      <td>0.0</td>\n",
              "      <td>1.0</td>\n",
              "    </tr>\n",
              "    <tr>\n",
              "      <th>2</th>\n",
              "      <td>AAPL</td>\n",
              "      <td>2015-05-29 00:00:00+00:00</td>\n",
              "      <td>130.280</td>\n",
              "      <td>131.450</td>\n",
              "      <td>129.90</td>\n",
              "      <td>131.23</td>\n",
              "      <td>50884452</td>\n",
              "      <td>120.056069</td>\n",
              "      <td>121.134251</td>\n",
              "      <td>119.705890</td>\n",
              "      <td>120.931516</td>\n",
              "      <td>50884452</td>\n",
              "      <td>0.0</td>\n",
              "      <td>1.0</td>\n",
              "    </tr>\n",
              "    <tr>\n",
              "      <th>3</th>\n",
              "      <td>AAPL</td>\n",
              "      <td>2015-06-01 00:00:00+00:00</td>\n",
              "      <td>130.535</td>\n",
              "      <td>131.390</td>\n",
              "      <td>130.05</td>\n",
              "      <td>131.20</td>\n",
              "      <td>32112797</td>\n",
              "      <td>120.291057</td>\n",
              "      <td>121.078960</td>\n",
              "      <td>119.844118</td>\n",
              "      <td>120.903870</td>\n",
              "      <td>32112797</td>\n",
              "      <td>0.0</td>\n",
              "      <td>1.0</td>\n",
              "    </tr>\n",
              "    <tr>\n",
              "      <th>4</th>\n",
              "      <td>AAPL</td>\n",
              "      <td>2015-06-02 00:00:00+00:00</td>\n",
              "      <td>129.960</td>\n",
              "      <td>130.655</td>\n",
              "      <td>129.32</td>\n",
              "      <td>129.86</td>\n",
              "      <td>33667627</td>\n",
              "      <td>119.761181</td>\n",
              "      <td>120.401640</td>\n",
              "      <td>119.171406</td>\n",
              "      <td>119.669029</td>\n",
              "      <td>33667627</td>\n",
              "      <td>0.0</td>\n",
              "      <td>1.0</td>\n",
              "    </tr>\n",
              "  </tbody>\n",
              "</table>\n",
              "</div>"
            ],
            "text/plain": [
              "  symbol                      date    close     high     low    open  \\\n",
              "0   AAPL 2015-05-27 00:00:00+00:00  132.045  132.260  130.05  130.34   \n",
              "1   AAPL 2015-05-28 00:00:00+00:00  131.780  131.950  131.10  131.86   \n",
              "2   AAPL 2015-05-29 00:00:00+00:00  130.280  131.450  129.90  131.23   \n",
              "3   AAPL 2015-06-01 00:00:00+00:00  130.535  131.390  130.05  131.20   \n",
              "4   AAPL 2015-06-02 00:00:00+00:00  129.960  130.655  129.32  129.86   \n",
              "\n",
              "     volume    adjClose     adjHigh      adjLow     adjOpen  adjVolume  \\\n",
              "0  45833246  121.682558  121.880685  119.844118  120.111360   45833246   \n",
              "1  30733309  121.438354  121.595013  120.811718  121.512076   30733309   \n",
              "2  50884452  120.056069  121.134251  119.705890  120.931516   50884452   \n",
              "3  32112797  120.291057  121.078960  119.844118  120.903870   32112797   \n",
              "4  33667627  119.761181  120.401640  119.171406  119.669029   33667627   \n",
              "\n",
              "   divCash  splitFactor  \n",
              "0      0.0          1.0  \n",
              "1      0.0          1.0  \n",
              "2      0.0          1.0  \n",
              "3      0.0          1.0  \n",
              "4      0.0          1.0  "
            ]
          },
          "execution_count": 11,
          "metadata": {},
          "output_type": "execute_result"
        }
      ],
      "source": [
        "df.head(5)"
      ]
    },
    {
      "cell_type": "code",
      "execution_count": null,
      "id": "c17d4973",
      "metadata": {
        "id": "c17d4973",
        "outputId": "04d92119-e7fb-47e1-f139-009b9e91046f"
      },
      "outputs": [
        {
          "data": {
            "text/html": [
              "<div>\n",
              "<style scoped>\n",
              "    .dataframe tbody tr th:only-of-type {\n",
              "        vertical-align: middle;\n",
              "    }\n",
              "\n",
              "    .dataframe tbody tr th {\n",
              "        vertical-align: top;\n",
              "    }\n",
              "\n",
              "    .dataframe thead th {\n",
              "        text-align: right;\n",
              "    }\n",
              "</style>\n",
              "<table border=\"1\" class=\"dataframe\">\n",
              "  <thead>\n",
              "    <tr style=\"text-align: right;\">\n",
              "      <th></th>\n",
              "      <th>open</th>\n",
              "      <th>close</th>\n",
              "      <th>low</th>\n",
              "      <th>high</th>\n",
              "      <th>volume</th>\n",
              "      <th>divCash</th>\n",
              "    </tr>\n",
              "    <tr>\n",
              "      <th>date</th>\n",
              "      <th></th>\n",
              "      <th></th>\n",
              "      <th></th>\n",
              "      <th></th>\n",
              "      <th></th>\n",
              "      <th></th>\n",
              "    </tr>\n",
              "  </thead>\n",
              "  <tbody>\n",
              "    <tr>\n",
              "      <th>1</th>\n",
              "      <td>173.255819</td>\n",
              "      <td>173.562647</td>\n",
              "      <td>171.793054</td>\n",
              "      <td>174.930597</td>\n",
              "      <td>3.957420e+07</td>\n",
              "      <td>0.000000</td>\n",
              "    </tr>\n",
              "    <tr>\n",
              "      <th>2</th>\n",
              "      <td>174.750208</td>\n",
              "      <td>175.183385</td>\n",
              "      <td>173.230781</td>\n",
              "      <td>176.937709</td>\n",
              "      <td>3.647889e+07</td>\n",
              "      <td>0.033542</td>\n",
              "    </tr>\n",
              "    <tr>\n",
              "      <th>3</th>\n",
              "      <td>172.289853</td>\n",
              "      <td>172.618807</td>\n",
              "      <td>170.045194</td>\n",
              "      <td>175.090677</td>\n",
              "      <td>3.881237e+07</td>\n",
              "      <td>0.000000</td>\n",
              "    </tr>\n",
              "    <tr>\n",
              "      <th>4</th>\n",
              "      <td>178.959346</td>\n",
              "      <td>179.163495</td>\n",
              "      <td>177.304270</td>\n",
              "      <td>180.782774</td>\n",
              "      <td>3.138517e+07</td>\n",
              "      <td>0.000000</td>\n",
              "    </tr>\n",
              "    <tr>\n",
              "      <th>5</th>\n",
              "      <td>178.325794</td>\n",
              "      <td>178.831085</td>\n",
              "      <td>177.014641</td>\n",
              "      <td>180.250317</td>\n",
              "      <td>3.391053e+07</td>\n",
              "      <td>0.033208</td>\n",
              "    </tr>\n",
              "    <tr>\n",
              "      <th>6</th>\n",
              "      <td>149.713028</td>\n",
              "      <td>149.627570</td>\n",
              "      <td>148.559618</td>\n",
              "      <td>150.837122</td>\n",
              "      <td>3.146791e+07</td>\n",
              "      <td>0.000000</td>\n",
              "    </tr>\n",
              "    <tr>\n",
              "      <th>7</th>\n",
              "      <td>154.248716</td>\n",
              "      <td>154.340952</td>\n",
              "      <td>153.267180</td>\n",
              "      <td>155.368383</td>\n",
              "      <td>2.879275e+07</td>\n",
              "      <td>0.000000</td>\n",
              "    </tr>\n",
              "    <tr>\n",
              "      <th>8</th>\n",
              "      <td>159.900670</td>\n",
              "      <td>160.099196</td>\n",
              "      <td>158.485057</td>\n",
              "      <td>161.594072</td>\n",
              "      <td>3.802271e+07</td>\n",
              "      <td>0.028750</td>\n",
              "    </tr>\n",
              "    <tr>\n",
              "      <th>9</th>\n",
              "      <td>162.758663</td>\n",
              "      <td>162.655594</td>\n",
              "      <td>161.159987</td>\n",
              "      <td>164.137519</td>\n",
              "      <td>4.029565e+07</td>\n",
              "      <td>0.000000</td>\n",
              "    </tr>\n",
              "    <tr>\n",
              "      <th>10</th>\n",
              "      <td>169.979865</td>\n",
              "      <td>170.151261</td>\n",
              "      <td>168.383921</td>\n",
              "      <td>171.575721</td>\n",
              "      <td>3.340523e+07</td>\n",
              "      <td>0.000000</td>\n",
              "    </tr>\n",
              "    <tr>\n",
              "      <th>11</th>\n",
              "      <td>170.491117</td>\n",
              "      <td>170.518204</td>\n",
              "      <td>168.856737</td>\n",
              "      <td>171.864235</td>\n",
              "      <td>3.363381e+07</td>\n",
              "      <td>0.031262</td>\n",
              "    </tr>\n",
              "    <tr>\n",
              "      <th>12</th>\n",
              "      <td>167.198107</td>\n",
              "      <td>167.232718</td>\n",
              "      <td>165.678659</td>\n",
              "      <td>168.683054</td>\n",
              "      <td>3.444414e+07</td>\n",
              "      <td>0.000000</td>\n",
              "    </tr>\n",
              "  </tbody>\n",
              "</table>\n",
              "</div>"
            ],
            "text/plain": [
              "            open       close         low        high        volume   divCash\n",
              "date                                                                        \n",
              "1     173.255819  173.562647  171.793054  174.930597  3.957420e+07  0.000000\n",
              "2     174.750208  175.183385  173.230781  176.937709  3.647889e+07  0.033542\n",
              "3     172.289853  172.618807  170.045194  175.090677  3.881237e+07  0.000000\n",
              "4     178.959346  179.163495  177.304270  180.782774  3.138517e+07  0.000000\n",
              "5     178.325794  178.831085  177.014641  180.250317  3.391053e+07  0.033208\n",
              "6     149.713028  149.627570  148.559618  150.837122  3.146791e+07  0.000000\n",
              "7     154.248716  154.340952  153.267180  155.368383  2.879275e+07  0.000000\n",
              "8     159.900670  160.099196  158.485057  161.594072  3.802271e+07  0.028750\n",
              "9     162.758663  162.655594  161.159987  164.137519  4.029565e+07  0.000000\n",
              "10    169.979865  170.151261  168.383921  171.575721  3.340523e+07  0.000000\n",
              "11    170.491117  170.518204  168.856737  171.864235  3.363381e+07  0.031262\n",
              "12    167.198107  167.232718  165.678659  168.683054  3.444414e+07  0.000000"
            ]
          },
          "execution_count": 12,
          "metadata": {},
          "output_type": "execute_result"
        }
      ],
      "source": [
        "dm=df[['open', 'close', 'low', 'high', 'volume', 'divCash']].groupby(df.date.dt.month).mean()\n",
        "dm"
      ]
    },
    {
      "cell_type": "code",
      "execution_count": null,
      "id": "a1df123f",
      "metadata": {
        "id": "a1df123f",
        "outputId": "17631135-e309-4665-bdd5-1f1b987a452d"
      },
      "outputs": [
        {
          "data": {
            "text/plain": [
              "Text(0.5, 1.0, 'Monthly open, close, high and low price')"
            ]
          },
          "execution_count": 13,
          "metadata": {},
          "output_type": "execute_result"
        },
        {
          "data": {
            "image/png": "[encoded data removed]",
            "text/plain": [
              "<Figure size 432x288 with 1 Axes>"
            ]
          },
          "metadata": {
            "needs_background": "light"
          },
          "output_type": "display_data"
        },
        {
          "data": {
            "image/png": "[encoded data removed]",
            "text/plain": [
              "<Figure size 432x288 with 1 Axes>"
            ]
          },
          "metadata": {
            "needs_background": "light"
          },
          "output_type": "display_data"
        }
      ],
      "source": [
        "plt.subplot(121)\n",
        "dm.close.plot(kind='bar') #AAPL are at their lowest on June\n",
        "plt.title('AAPL MONTHLY PRICE')\n",
        "plt.subplot(121)\n",
        "dm[['close','open', 'high', 'low']].plot(kind='bar')\n",
        "plt.title('Monthly open, close, high and low price')\n"
      ]
    },
    {
      "cell_type": "code",
      "execution_count": null,
      "id": "ea0bb894",
      "metadata": {
        "id": "ea0bb894",
        "outputId": "93054179-3365-4d52-852a-3031fb55206b"
      },
      "outputs": [
        {
          "data": {
            "text/plain": [
              "<AxesSubplot:>"
            ]
          },
          "execution_count": 14,
          "metadata": {},
          "output_type": "execute_result"
        },
        {
          "data": {
            "image/png": "[encoded data removed]",
            "text/plain": [
              "<Figure size 432x288 with 1 Axes>"
            ]
          },
          "metadata": {
            "needs_background": "light"
          },
          "output_type": "display_data"
        }
      ],
      "source": [
        "df[['close', 'divCash']].plot()"
      ]
    },
    {
      "cell_type": "code",
      "execution_count": null,
      "id": "646429b7",
      "metadata": {
        "id": "646429b7",
        "outputId": "322fc943-969f-418f-b068-82501257d117"
      },
      "outputs": [
        {
          "data": {
            "text/plain": [
              "<AxesSubplot:xlabel='date'>"
            ]
          },
          "execution_count": 15,
          "metadata": {},
          "output_type": "execute_result"
        },
        {
          "data": {
            "image/png": "[encoded data removed]",
            "text/plain": [
              "<Figure size 432x288 with 1 Axes>"
            ]
          },
          "metadata": {
            "needs_background": "light"
          },
          "output_type": "display_data"
        }
      ],
      "source": [
        "dy=df[['open', 'close', 'low', 'high', 'volume', 'divCash']].groupby(df['date'].dt.year).mean()\n",
        "dy\n",
        "dy[['close', 'low', 'high', 'open']].plot(kind='bar')"
      ]
    },
    {
      "cell_type": "code",
      "execution_count": null,
      "id": "7b31b9c3",
      "metadata": {
        "id": "7b31b9c3",
        "outputId": "19e2eded-3855-4441-c4bd-9e932b8c2377"
      },
      "outputs": [
        {
          "data": {
            "text/plain": [
              "Text(0.5, 1.0, 'AAPLE VOLUME IN M TF')"
            ]
          },
          "execution_count": 16,
          "metadata": {},
          "output_type": "execute_result"
        },
        {
          "data": {
            "image/png": "[encoded data removed]",
            "text/plain": [
              "<Figure size 432x288 with 1 Axes>"
            ]
          },
          "metadata": {
            "needs_background": "light"
          },
          "output_type": "display_data"
        }
      ],
      "source": [
        "dm['volume'].plot()\n",
        "plt.title('AAPLE VOLUME IN M TF')"
      ]
    },
    {
      "cell_type": "code",
      "execution_count": null,
      "id": "9fd96112",
      "metadata": {
        "id": "9fd96112",
        "outputId": "d1fb1dec-f681-4fcb-838d-efdacaece41b"
      },
      "outputs": [
        {
          "data": {
            "text/plain": [
              "<Figure size 72000x72000 with 0 Axes>"
            ]
          },
          "execution_count": 17,
          "metadata": {},
          "output_type": "execute_result"
        },
        {
          "data": {
            "image/png": "[encoded data removed]",
            "text/plain": [
              "<Figure size 432x288 with 1 Axes>"
            ]
          },
          "metadata": {
            "needs_background": "light"
          },
          "output_type": "display_data"
        },
        {
          "data": {
            "text/plain": [
              "<Figure size 72000x72000 with 0 Axes>"
            ]
          },
          "metadata": {},
          "output_type": "display_data"
        }
      ],
      "source": [
        "price=dm['close']-dm['open']\n",
        "price.plot(kind='bar')\n",
        "plt.title('AAP price in monthly timeframe')\n",
        "plt.figure(figsize=(1000,1000))"
      ]
    },
    {
      "cell_type": "raw",
      "id": "3dd76eb4",
      "metadata": {
        "id": "3dd76eb4"
      },
      "source": [
        "# Predict Price every 2days"
      ]
    },
    {
      "cell_type": "code",
      "execution_count": null,
      "id": "5e62afdd",
      "metadata": {
        "id": "5e62afdd"
      },
      "outputs": [],
      "source": [
        "close=MinMaxScaler(feature_range=(0,1))\n",
        "closing=close.fit(np.array(df['close']).reshape(-1,1))\n",
        "closingg=close.transform(np.array(df['close']).reshape(-1,1))\n",
        "\n",
        "\n"
      ]
    },
    {
      "cell_type": "code",
      "execution_count": null,
      "id": "159ba306",
      "metadata": {
        "id": "159ba306"
      },
      "outputs": [],
      "source": [
        "def seq(step, data):\n",
        "    x=list(data)\n",
        "    x_sequence=[]\n",
        "    y_sequence=[]\n",
        "    for i in range(step, len(x)):\n",
        "        x_sequence.append(x[i-step:i])\n",
        "        y_sequence.append([x[i]])\n",
        "    return x_sequence, y_sequence\n",
        "\n",
        "x, y=seq(68,closingg )\n",
        "        \n",
        "        "
      ]
    },
    {
      "cell_type": "code",
      "execution_count": null,
      "id": "888a8123",
      "metadata": {
        "colab": {
          "base_uri": "https://localhost:8080/"
        },
        "id": "888a8123",
        "outputId": "529e6430-b9dd-4680-ae62-a70c1c36665d"
      },
      "outputs": [
        {
          "output_type": "stream",
          "name": "stdout",
          "text": [
            "length of x is: 1190 \n",
            "length of y is: 1190\n"
          ]
        }
      ],
      "source": [
        "print('length of x is:', len(x), '\\nlength of y is:', len(y))"
      ]
    },
    {
      "cell_type": "code",
      "execution_count": null,
      "id": "d1a4d9e8",
      "metadata": {
        "colab": {
          "base_uri": "https://localhost:8080/"
        },
        "id": "d1a4d9e8",
        "outputId": "0d114e5e-76c8-467c-cc43-38776be606d9"
      },
      "outputs": [
        {
          "output_type": "stream",
          "name": "stdout",
          "text": [
            "Train is: 1090 \n",
            "Train Label is: 1090 \n",
            "Test is: 100 \n",
            "Test Label: 100\n"
          ]
        }
      ],
      "source": [
        "train=x[:-100]\n",
        "train_label=y[:-100]\n",
        "test=x[-100:]\n",
        "test_label=y[-100:]\n",
        "print('Train is:', len(train),'\\nTrain Label is:', len(train_label), '\\nTest is:', len(test), '\\nTest Label:', len(test_label))"
      ]
    },
    {
      "cell_type": "code",
      "source": [
        "np.array(train)"
      ],
      "metadata": {
        "id": "mltT0RL8KGT2"
      },
      "id": "mltT0RL8KGT2",
      "execution_count": null,
      "outputs": []
    },
    {
      "cell_type": "code",
      "source": [
        "train=np.array(train)\n",
        "train_label=np.array(train_label)\n",
        "test=np.array(test)\n",
        "test_label=np.array(test_label)\n",
        "train=train.reshape(1090, 68, 1)"
      ],
      "metadata": {
        "id": "cvs9mkMUujie"
      },
      "id": "cvs9mkMUujie",
      "execution_count": null,
      "outputs": []
    },
    {
      "cell_type": "code",
      "execution_count": null,
      "id": "a686e004",
      "metadata": {
        "id": "a686e004"
      },
      "outputs": [],
      "source": [
        "from keras.callbacks import EarlyStopping\n",
        "call=EarlyStopping(monitor='val_loss',patience=10, verbose=1, restore_best_weights=True, mode='min' )"
      ]
    },
    {
      "cell_type": "code",
      "source": [
        "train.shape"
      ],
      "metadata": {
        "colab": {
          "base_uri": "https://localhost:8080/"
        },
        "id": "XxjCka_b0Iey",
        "outputId": "446e34ed-ae7d-452b-fca4-1ba74f568fc3"
      },
      "id": "XxjCka_b0Iey",
      "execution_count": null,
      "outputs": [
        {
          "output_type": "execute_result",
          "data": {
            "text/plain": [
              "(1090, 68, 1)"
            ]
          },
          "metadata": {},
          "execution_count": 242
        }
      ]
    },
    {
      "cell_type": "code",
      "execution_count": null,
      "id": "3018c46c",
      "metadata": {
        "id": "3018c46c"
      },
      "outputs": [],
      "source": [
        "\n",
        "model=models.Sequential()\n",
        "model.add(layers.GRU(64, input_shape=(68, 1), return_sequences=True))\n",
        "model.add(layers.LSTM(64, return_sequences=False))\n",
        "model.add(layers.Dense(25))\n",
        "model.add(layers.Dense(1))\n",
        "\n",
        "model.compile(optimizer='rmsprop', loss='mae', metrics='mae')\n",
        "\n",
        "\n",
        "\n"
      ]
    },
    {
      "cell_type": "code",
      "source": [
        "hist=model.fit(train, train_label, epochs=30,batch_size=100, callbacks=call)"
      ],
      "metadata": {
        "colab": {
          "base_uri": "https://localhost:8080/"
        },
        "id": "LpNX5Mp-3hLh",
        "outputId": "42f31530-796e-4e1c-cbe9-77e0e3a9f5f7"
      },
      "id": "LpNX5Mp-3hLh",
      "execution_count": null,
      "outputs": [
        {
          "output_type": "stream",
          "name": "stdout",
          "text": [
            "Epoch 1/30\n",
            "11/11 [==============================] - ETA: 0s - loss: 0.0156 - mae: 0.0156WARNING:tensorflow:Early stopping conditioned on metric `val_loss` which is not available. Available metrics are: loss,mae\n",
            "11/11 [==============================] - 1s 122ms/step - loss: 0.0156 - mae: 0.0156\n",
            "Epoch 2/30\n",
            "11/11 [==============================] - ETA: 0s - loss: 0.0164 - mae: 0.0164WARNING:tensorflow:Early stopping conditioned on metric `val_loss` which is not available. Available metrics are: loss,mae\n",
            "11/11 [==============================] - 1s 126ms/step - loss: 0.0164 - mae: 0.0164\n",
            "Epoch 3/30\n",
            "11/11 [==============================] - ETA: 0s - loss: 0.0166 - mae: 0.0166WARNING:tensorflow:Early stopping conditioned on metric `val_loss` which is not available. Available metrics are: loss,mae\n",
            "11/11 [==============================] - 1s 123ms/step - loss: 0.0166 - mae: 0.0166\n",
            "Epoch 4/30\n",
            "11/11 [==============================] - ETA: 0s - loss: 0.0160 - mae: 0.0160WARNING:tensorflow:Early stopping conditioned on metric `val_loss` which is not available. Available metrics are: loss,mae\n",
            "11/11 [==============================] - 1s 122ms/step - loss: 0.0160 - mae: 0.0160\n",
            "Epoch 5/30\n",
            "11/11 [==============================] - ETA: 0s - loss: 0.0166 - mae: 0.0166WARNING:tensorflow:Early stopping conditioned on metric `val_loss` which is not available. Available metrics are: loss,mae\n",
            "11/11 [==============================] - 1s 123ms/step - loss: 0.0166 - mae: 0.0166\n",
            "Epoch 6/30\n",
            "11/11 [==============================] - ETA: 0s - loss: 0.0142 - mae: 0.0142WARNING:tensorflow:Early stopping conditioned on metric `val_loss` which is not available. Available metrics are: loss,mae\n",
            "11/11 [==============================] - 1s 121ms/step - loss: 0.0142 - mae: 0.0142\n",
            "Epoch 7/30\n",
            "11/11 [==============================] - ETA: 0s - loss: 0.0177 - mae: 0.0177WARNING:tensorflow:Early stopping conditioned on metric `val_loss` which is not available. Available metrics are: loss,mae\n",
            "11/11 [==============================] - 1s 124ms/step - loss: 0.0177 - mae: 0.0177\n",
            "Epoch 8/30\n",
            "11/11 [==============================] - ETA: 0s - loss: 0.0158 - mae: 0.0158WARNING:tensorflow:Early stopping conditioned on metric `val_loss` which is not available. Available metrics are: loss,mae\n",
            "11/11 [==============================] - 1s 121ms/step - loss: 0.0158 - mae: 0.0158\n",
            "Epoch 9/30\n",
            "11/11 [==============================] - ETA: 0s - loss: 0.0165 - mae: 0.0165WARNING:tensorflow:Early stopping conditioned on metric `val_loss` which is not available. Available metrics are: loss,mae\n",
            "11/11 [==============================] - 1s 123ms/step - loss: 0.0165 - mae: 0.0165\n",
            "Epoch 10/30\n",
            "11/11 [==============================] - ETA: 0s - loss: 0.0160 - mae: 0.0160WARNING:tensorflow:Early stopping conditioned on metric `val_loss` which is not available. Available metrics are: loss,mae\n",
            "11/11 [==============================] - 1s 125ms/step - loss: 0.0160 - mae: 0.0160\n",
            "Epoch 11/30\n",
            "11/11 [==============================] - ETA: 0s - loss: 0.0150 - mae: 0.0150WARNING:tensorflow:Early stopping conditioned on metric `val_loss` which is not available. Available metrics are: loss,mae\n",
            "11/11 [==============================] - 1s 122ms/step - loss: 0.0150 - mae: 0.0150\n",
            "Epoch 12/30\n",
            "11/11 [==============================] - ETA: 0s - loss: 0.0160 - mae: 0.0160WARNING:tensorflow:Early stopping conditioned on metric `val_loss` which is not available. Available metrics are: loss,mae\n",
            "11/11 [==============================] - 1s 122ms/step - loss: 0.0160 - mae: 0.0160\n",
            "Epoch 13/30\n",
            "11/11 [==============================] - ETA: 0s - loss: 0.0161 - mae: 0.0161WARNING:tensorflow:Early stopping conditioned on metric `val_loss` which is not available. Available metrics are: loss,mae\n",
            "11/11 [==============================] - 1s 124ms/step - loss: 0.0161 - mae: 0.0161\n",
            "Epoch 14/30\n",
            "11/11 [==============================] - ETA: 0s - loss: 0.0135 - mae: 0.0135WARNING:tensorflow:Early stopping conditioned on metric `val_loss` which is not available. Available metrics are: loss,mae\n",
            "11/11 [==============================] - 1s 122ms/step - loss: 0.0135 - mae: 0.0135\n",
            "Epoch 15/30\n",
            "11/11 [==============================] - ETA: 0s - loss: 0.0166 - mae: 0.0166WARNING:tensorflow:Early stopping conditioned on metric `val_loss` which is not available. Available metrics are: loss,mae\n",
            "11/11 [==============================] - 1s 121ms/step - loss: 0.0166 - mae: 0.0166\n",
            "Epoch 16/30\n",
            "11/11 [==============================] - ETA: 0s - loss: 0.0166 - mae: 0.0166WARNING:tensorflow:Early stopping conditioned on metric `val_loss` which is not available. Available metrics are: loss,mae\n",
            "11/11 [==============================] - 1s 123ms/step - loss: 0.0166 - mae: 0.0166\n",
            "Epoch 17/30\n",
            "11/11 [==============================] - ETA: 0s - loss: 0.0163 - mae: 0.0163WARNING:tensorflow:Early stopping conditioned on metric `val_loss` which is not available. Available metrics are: loss,mae\n",
            "11/11 [==============================] - 1s 121ms/step - loss: 0.0163 - mae: 0.0163\n",
            "Epoch 18/30\n",
            "11/11 [==============================] - ETA: 0s - loss: 0.0151 - mae: 0.0151WARNING:tensorflow:Early stopping conditioned on metric `val_loss` which is not available. Available metrics are: loss,mae\n",
            "11/11 [==============================] - 1s 126ms/step - loss: 0.0151 - mae: 0.0151\n",
            "Epoch 19/30\n",
            "11/11 [==============================] - ETA: 0s - loss: 0.0142 - mae: 0.0142WARNING:tensorflow:Early stopping conditioned on metric `val_loss` which is not available. Available metrics are: loss,mae\n",
            "11/11 [==============================] - 1s 122ms/step - loss: 0.0142 - mae: 0.0142\n",
            "Epoch 20/30\n",
            "11/11 [==============================] - ETA: 0s - loss: 0.0160 - mae: 0.0160WARNING:tensorflow:Early stopping conditioned on metric `val_loss` which is not available. Available metrics are: loss,mae\n",
            "11/11 [==============================] - 1s 122ms/step - loss: 0.0160 - mae: 0.0160\n",
            "Epoch 21/30\n",
            "11/11 [==============================] - ETA: 0s - loss: 0.0158 - mae: 0.0158WARNING:tensorflow:Early stopping conditioned on metric `val_loss` which is not available. Available metrics are: loss,mae\n",
            "11/11 [==============================] - 1s 124ms/step - loss: 0.0158 - mae: 0.0158\n",
            "Epoch 22/30\n",
            "11/11 [==============================] - ETA: 0s - loss: 0.0161 - mae: 0.0161WARNING:tensorflow:Early stopping conditioned on metric `val_loss` which is not available. Available metrics are: loss,mae\n",
            "11/11 [==============================] - 1s 125ms/step - loss: 0.0161 - mae: 0.0161\n",
            "Epoch 23/30\n",
            "11/11 [==============================] - ETA: 0s - loss: 0.0146 - mae: 0.0146WARNING:tensorflow:Early stopping conditioned on metric `val_loss` which is not available. Available metrics are: loss,mae\n",
            "11/11 [==============================] - 1s 123ms/step - loss: 0.0146 - mae: 0.0146\n",
            "Epoch 24/30\n",
            "11/11 [==============================] - ETA: 0s - loss: 0.0156 - mae: 0.0156WARNING:tensorflow:Early stopping conditioned on metric `val_loss` which is not available. Available metrics are: loss,mae\n",
            "11/11 [==============================] - 1s 124ms/step - loss: 0.0156 - mae: 0.0156\n",
            "Epoch 25/30\n",
            "11/11 [==============================] - ETA: 0s - loss: 0.0146 - mae: 0.0146WARNING:tensorflow:Early stopping conditioned on metric `val_loss` which is not available. Available metrics are: loss,mae\n",
            "11/11 [==============================] - 1s 127ms/step - loss: 0.0146 - mae: 0.0146\n",
            "Epoch 26/30\n",
            "11/11 [==============================] - ETA: 0s - loss: 0.0151 - mae: 0.0151WARNING:tensorflow:Early stopping conditioned on metric `val_loss` which is not available. Available metrics are: loss,mae\n",
            "11/11 [==============================] - 1s 120ms/step - loss: 0.0151 - mae: 0.0151\n",
            "Epoch 27/30\n",
            "11/11 [==============================] - ETA: 0s - loss: 0.0152 - mae: 0.0152WARNING:tensorflow:Early stopping conditioned on metric `val_loss` which is not available. Available metrics are: loss,mae\n",
            "11/11 [==============================] - 1s 124ms/step - loss: 0.0152 - mae: 0.0152\n",
            "Epoch 28/30\n",
            "11/11 [==============================] - ETA: 0s - loss: 0.0164 - mae: 0.0164WARNING:tensorflow:Early stopping conditioned on metric `val_loss` which is not available. Available metrics are: loss,mae\n",
            "11/11 [==============================] - 1s 123ms/step - loss: 0.0164 - mae: 0.0164\n",
            "Epoch 29/30\n",
            "11/11 [==============================] - ETA: 0s - loss: 0.0150 - mae: 0.0150WARNING:tensorflow:Early stopping conditioned on metric `val_loss` which is not available. Available metrics are: loss,mae\n",
            "11/11 [==============================] - 1s 123ms/step - loss: 0.0150 - mae: 0.0150\n",
            "Epoch 30/30\n",
            "11/11 [==============================] - ETA: 0s - loss: 0.0151 - mae: 0.0151WARNING:tensorflow:Early stopping conditioned on metric `val_loss` which is not available. Available metrics are: loss,mae\n",
            "11/11 [==============================] - 1s 125ms/step - loss: 0.0151 - mae: 0.0151\n"
          ]
        }
      ]
    },
    {
      "cell_type": "code",
      "source": [
        "histori=hist.history\n"
      ],
      "metadata": {
        "id": "g47SeBWnAzNQ"
      },
      "id": "g47SeBWnAzNQ",
      "execution_count": null,
      "outputs": []
    },
    {
      "cell_type": "code",
      "source": [
        "plt.subplot(121)\n",
        "plt.plot(histori['loss'])\n",
        "plt.subplot(122)\n",
        "plt.plot(histori['mae'])"
      ],
      "metadata": {
        "colab": {
          "base_uri": "https://localhost:8080/",
          "height": 282
        },
        "id": "DGa0jl-IzqBh",
        "outputId": "c8d00bf2-eb92-4ff7-c784-67e8384c1914"
      },
      "id": "DGa0jl-IzqBh",
      "execution_count": null,
      "outputs": [
        {
          "output_type": "execute_result",
          "data": {
            "text/plain": [
              "[<matplotlib.lines.Line2D at 0x7f56196390d0>]"
            ]
          },
          "metadata": {},
          "execution_count": 277
        },
        {
          "output_type": "display_data",
          "data": {
            "text/plain": [
              "<Figure size 432x288 with 2 Axes>"
            ],
            "image/png": "[encoded data removed]"
          },
          "metadata": {
            "needs_background": "light"
          }
        }
      ]
    },
    {
      "cell_type": "code",
      "source": [
        "pred=model.predict(test)\n",
        "pred=close.inverse_transform(pred)"
      ],
      "metadata": {
        "id": "KSA1Gont0C0T"
      },
      "id": "KSA1Gont0C0T",
      "execution_count": null,
      "outputs": []
    },
    {
      "cell_type": "code",
      "source": [
        "test_label=test_label.reshape(100,1)\n",
        "test_label=close.inverse_transform(test_label)"
      ],
      "metadata": {
        "id": "qsk9NhQisUfj"
      },
      "id": "qsk9NhQisUfj",
      "execution_count": null,
      "outputs": []
    },
    {
      "cell_type": "code",
      "source": [
        "train_pred=model.predict(train)\n",
        "train_pred=close.inverse_transform(train_pred)"
      ],
      "metadata": {
        "id": "3GuAW5wtsUkc"
      },
      "id": "3GuAW5wtsUkc",
      "execution_count": null,
      "outputs": []
    },
    {
      "cell_type": "code",
      "source": [
        "from sklearn.metrics import mean_absolute_error\n",
        "print('MAE is:', mean_absolute_error(test_label, pred))"
      ],
      "metadata": {
        "colab": {
          "base_uri": "https://localhost:8080/"
        },
        "id": "kev7yyWjSPLM",
        "outputId": "4c699344-f5e3-4d51-b214-09ff0a21cb2e"
      },
      "id": "kev7yyWjSPLM",
      "execution_count": null,
      "outputs": [
        {
          "output_type": "stream",
          "name": "stdout",
          "text": [
            "MAE is: 7.950080633544924\n"
          ]
        }
      ]
    },
    {
      "cell_type": "code",
      "source": [
        "plt.title('Comparing Ground Truth Vs Prediction')\n",
        "plt.plot(pred, 'b')\n",
        "plt.plot(test_label, 'r')\n",
        "\n",
        "\n"
      ],
      "metadata": {
        "colab": {
          "base_uri": "https://localhost:8080/",
          "height": 298
        },
        "id": "rO24VeolsUp-",
        "outputId": "7aed314b-be73-46f5-fda0-2e12312902f4"
      },
      "id": "rO24VeolsUp-",
      "execution_count": null,
      "outputs": [
        {
          "output_type": "execute_result",
          "data": {
            "text/plain": [
              "[<matplotlib.lines.Line2D at 0x7f56158db450>]"
            ]
          },
          "metadata": {},
          "execution_count": 335
        },
        {
          "output_type": "display_data",
          "data": {
            "text/plain": [
              "<Figure size 432x288 with 1 Axes>"
            ],
            "image/png": "[encoded data removed]"
          },
          "metadata": {
            "needs_background": "light"
          }
        }
      ]
    },
    {
      "cell_type": "code",
      "source": [
        ""
      ],
      "metadata": {
        "id": "huqmFOV9sU0n"
      },
      "id": "huqmFOV9sU0n",
      "execution_count": null,
      "outputs": []
    },
    {
      "cell_type": "code",
      "source": [
        ""
      ],
      "metadata": {
        "id": "4GqF9nGisU4n"
      },
      "id": "4GqF9nGisU4n",
      "execution_count": null,
      "outputs": []
    },
    {
      "cell_type": "code",
      "source": [
        ""
      ],
      "metadata": {
        "id": "LimtG81rsU8I"
      },
      "id": "LimtG81rsU8I",
      "execution_count": null,
      "outputs": []
    },
    {
      "cell_type": "code",
      "source": [
        ""
      ],
      "metadata": {
        "id": "l-N0WK4nsU_p"
      },
      "id": "l-N0WK4nsU_p",
      "execution_count": null,
      "outputs": []
    },
    {
      "cell_type": "code",
      "execution_count": null,
      "id": "19bab464",
      "metadata": {
        "id": "19bab464"
      },
      "outputs": [],
      "source": [
        ""
      ]
    },
    {
      "cell_type": "code",
      "execution_count": null,
      "id": "6c03e869",
      "metadata": {
        "id": "6c03e869"
      },
      "outputs": [],
      "source": [
        ""
      ]
    },
    {
      "cell_type": "code",
      "execution_count": null,
      "id": "4c8c7a31",
      "metadata": {
        "id": "4c8c7a31"
      },
      "outputs": [],
      "source": [
        ""
      ]
    },
    {
      "cell_type": "code",
      "execution_count": null,
      "id": "a55cd84c",
      "metadata": {
        "id": "a55cd84c"
      },
      "outputs": [],
      "source": [
        ""
      ]
    },
    {
      "cell_type": "code",
      "execution_count": null,
      "id": "0f2d99d1",
      "metadata": {
        "id": "0f2d99d1"
      },
      "outputs": [],
      "source": [
        ""
      ]
    },
    {
      "cell_type": "code",
      "execution_count": null,
      "id": "f0333372",
      "metadata": {
        "id": "f0333372"
      },
      "outputs": [],
      "source": [
        ""
      ]
    },
    {
      "cell_type": "code",
      "execution_count": null,
      "id": "ccd0cc2e",
      "metadata": {
        "id": "ccd0cc2e"
      },
      "outputs": [],
      "source": [
        ""
      ]
    },
    {
      "cell_type": "code",
      "execution_count": null,
      "id": "173b1a27",
      "metadata": {
        "id": "173b1a27"
      },
      "outputs": [],
      "source": [
        ""
      ]
    },
    {
      "cell_type": "code",
      "execution_count": null,
      "id": "dc46a8c6",
      "metadata": {
        "scrolled": true,
        "id": "dc46a8c6"
      },
      "outputs": [],
      "source": [
        ""
      ]
    },
    {
      "cell_type": "code",
      "execution_count": null,
      "id": "7769212b",
      "metadata": {
        "id": "7769212b"
      },
      "outputs": [],
      "source": [
        ""
      ]
    }
  ],
  "metadata": {
    "kernelspec": {
      "display_name": "Python 3 (ipykernel)",
      "language": "python",
      "name": "python3"
    },
    "language_info": {
      "codemirror_mode": {
        "name": "ipython",
        "version": 3
      },
      "file_extension": ".py",
      "mimetype": "text/x-python",
      "name": "python",
      "nbconvert_exporter": "python",
      "pygments_lexer": "ipython3",
      "version": "3.10.0"
    },
    "colab": {
      "name": "AAPL Price Forecast with LSTM.ipynb",
      "provenance": [],
      "collapsed_sections": []
    }
  },
  "nbformat": 4,
  "nbformat_minor": 5
}